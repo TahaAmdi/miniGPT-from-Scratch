{
 "cells": [
  {
   "cell_type": "code",
   "execution_count": 1,
   "id": "c31d1189",
   "metadata": {},
   "outputs": [],
   "source": [
    "import numpy as np\n",
    "import torch\n",
    "import torch.nn as nn"
   ]
  },
  {
   "cell_type": "code",
   "execution_count": 2,
   "id": "6ec98280",
   "metadata": {},
   "outputs": [
    {
     "name": "stdout",
     "output_type": "stream",
     "text": [
      "cuda\n"
     ]
    }
   ],
   "source": [
    "device = torch.device(\"cuda\" if torch.cuda.is_available() else \"cpu\")\n",
    "print(device)"
   ]
  },
  {
   "cell_type": "code",
   "execution_count": 3,
   "id": "b4bce8a6",
   "metadata": {},
   "outputs": [
    {
     "name": "stdout",
     "output_type": "stream",
     "text": [
      "Batch shape: tensor([[6109, 3626, 6100,  345],\n",
      "        [6109, 1110, 6622,  257]])\n",
      "Batch shape: torch.Size([2, 4])\n"
     ]
    }
   ],
   "source": [
    "import tiktoken\n",
    "\n",
    "tokenizer = tiktoken.get_encoding(\"gpt2\")\n",
    "\n",
    "batch = []\n",
    "text1 = \"Every effort moves you\"\n",
    "text2 = \"Every day holds a\"\n",
    "\n",
    "batch.append(torch.tensor(tokenizer.encode(text1)))\n",
    "batch.append(torch.tensor(tokenizer.encode(text2)))\n",
    "\n",
    "batch = torch.stack(batch, dim=0)\n",
    "print(\"Batch shape:\", batch)\n",
    "print(\"Batch shape:\", batch.shape)"
   ]
  },
  {
   "cell_type": "code",
   "execution_count": 4,
   "id": "880f9baf",
   "metadata": {},
   "outputs": [],
   "source": [
    "from types import SimpleNamespace\n",
    "\n",
    "GPT_CONFIG_124M = {\n",
    " \"vocab_size\": 50257, # Vocabulary size\n",
    " \"context_length\": 1024, # Context length\n",
    " \"emb_dim\": 768, # Embedding dimension\n",
    " \"n_heads\": 12, # Number of attention heads\n",
    " \"n_layers\": 12, # Number of layers\n",
    " \"drop_rate\": 0.1, # Dropout rate\n",
    " \"qkv_bias\": False # Query-Key-Value bias\n",
    "}\n",
    "\n",
    "cfg = SimpleNamespace(**GPT_CONFIG_124M)"
   ]
  },
  {
   "cell_type": "markdown",
   "id": "e50e8b84",
   "metadata": {},
   "source": [
    "-------------\n",
    "### 1.Architect"
   ]
  },
  {
   "cell_type": "code",
   "execution_count": 5,
   "id": "e32e9d69",
   "metadata": {},
   "outputs": [],
   "source": [
    "class MultiHeadAttention(nn.Module):\n",
    "    def __init__(self, d_in, d_out,\n",
    "                context_length, dropout, num_heads, qkv_bias=False):\n",
    "        super().__init__()\n",
    "        \n",
    "        assert (d_out % num_heads == 0), \\\n",
    "              \"d_out must be divisible by num_heads\"\n",
    "        \n",
    "        self.d_out = d_out\n",
    "        self.num_heads = num_heads\n",
    "        \n",
    "        self.head_dim = d_out // num_heads\n",
    "\n",
    "        self.W_query = nn.Linear(d_in, d_out, bias=qkv_bias)\n",
    "        self.W_key = nn.Linear(d_in, d_out, bias=qkv_bias)\n",
    "        self.W_value = nn.Linear(d_in, d_out, bias=qkv_bias)\n",
    "\n",
    "        self.proj_out = nn.Linear(d_out, d_out)\n",
    "\n",
    "        self.drop = nn.Dropout(dropout)\n",
    "\n",
    "        self.register_buffer(\n",
    "            \"mask\",\n",
    "            torch.triu(torch.ones(context_length, context_length), \n",
    "                       diagonal=1)\n",
    "        )\n",
    "\n",
    "    def forward(self,x):\n",
    "        batch_size, num_token, d_in = x.shape\n",
    "        queris = self.W_query(x)\n",
    "        keys = self.W_key(x)\n",
    "        values = self.W_value(x)\n",
    "\n",
    "        queris = queris.view(batch_size, num_token, self.num_heads, self.head_dim)\n",
    "        keys = keys.view(batch_size, num_token, self.num_heads, self.head_dim)\n",
    "        values = values.view(batch_size, num_token, self.num_heads, self.head_dim)\n",
    "        \n",
    "        keys, queris, values = keys.transpose(1, 2), values.transpose(1, 2), values.transpose(1, 2)\n",
    "\n",
    "        attn_score = queris @ keys.transpose(2, 3)\n",
    "\n",
    "        num_tokens = attn_score.shape[-1]\n",
    "        mask_bool = self.mask.bool()[:num_tokens, :num_tokens]\n",
    "        attn_score.masked_fill_(mask_bool, -torch.inf)\n",
    "\n",
    "        attn_weights = torch.softmax(\n",
    "            attn_score / self.head_dim ** 0.5, dim=-1\n",
    "        )\n",
    "\n",
    "        attn_weights_T = self.drop(attn_weights)\n",
    "\n",
    "        context_vecs = (attn_weights_T @ values).transpose(1, 2) #Turn to previous shape\n",
    "        context_vecs = context_vecs.contiguous().view(batch_size, num_token, self.d_out)\n",
    "\n",
    "        context_vecs = self.proj_out(context_vecs)\n",
    "\n",
    "        return context_vecs\n",
    "      "
   ]
  },
  {
   "cell_type": "code",
   "execution_count": 6,
   "id": "b162bb1c",
   "metadata": {},
   "outputs": [],
   "source": [
    "class LayerNorm(nn.Module):\n",
    "    def __init__(self, emb_dim):\n",
    "        super().__init__()\n",
    "        self.emb_dim = emb_dim\n",
    "        self.eps = 1e-5\n",
    "\n",
    "        self.scale = nn.Parameter(torch.ones(emb_dim))\n",
    "        self.shift = nn.Parameter(torch.zeros(emb_dim))\n",
    "\n",
    "    def forward(self, x):\n",
    "        mean = x.mean(dim = -1, keepdim = True)\n",
    "        var = x.var(dim = -1, keepdim = True)\n",
    "        x_norm = (x - mean) / torch.sqrt(var + self.eps)\n",
    "                \n",
    "        return self.scale * x_norm + self.shift\n"
   ]
  },
  {
   "cell_type": "code",
   "execution_count": 7,
   "id": "a0ded8f2",
   "metadata": {},
   "outputs": [],
   "source": [
    "class FeedForward(nn.Module):\n",
    "    def __init__(self, cfg):\n",
    "        super().__init__()\n",
    "        self.cfg = cfg\n",
    "        self.layer = nn.Sequential(\n",
    "            nn.Linear(cfg.emb_dim, cfg.emb_dim * 4),\n",
    "            nn.GELU(),\n",
    "            nn.Linear(cfg.emb_dim * 4, cfg.emb_dim)\n",
    "        )\n",
    "\n",
    "    def forward(self, x):\n",
    "        return self.layer(x)"
   ]
  },
  {
   "cell_type": "code",
   "execution_count": 8,
   "id": "1ce6b894",
   "metadata": {},
   "outputs": [],
   "source": [
    "class TransformerBlock(nn.Module):\n",
    "    def __init__(self, cfg):\n",
    "        super().__init__()\n",
    "        self.norm1 = LayerNorm(cfg.emb_dim)\n",
    "        self.att = MultiHeadAttention(\n",
    "            d_in=cfg.emb_dim,\n",
    "            d_out=cfg.emb_dim,\n",
    "            context_length=cfg.context_length,\n",
    "            dropout=cfg.drop_rate,\n",
    "            num_heads=cfg.n_heads,\n",
    "            qkv_bias=cfg.qkv_bias\n",
    "        )\n",
    "        self.drop_shortcut = nn.Dropout(cfg.drop_rate)\n",
    "        self.norm2 = LayerNorm(cfg.emb_dim)\n",
    "        self.ff = FeedForward(cfg)\n",
    "\n",
    "    def forward(self, x):\n",
    "        shortcut = x\n",
    "        x = self.norm1(x)\n",
    "        x = self.att(x)\n",
    "        x = self.drop_shortcut(x)\n",
    "        x = x + shortcut\n",
    "\n",
    "        shortcut  = x\n",
    "        x = self.norm2(x)\n",
    "        x = self.ff(x)\n",
    "        x = self.drop_shortcut(x)\n",
    "        x = x + shortcut\n",
    "\n",
    "        return x"
   ]
  },
  {
   "cell_type": "code",
   "execution_count": 9,
   "id": "a8dbc4de",
   "metadata": {},
   "outputs": [],
   "source": [
    "class GPTModel(nn.Module):\n",
    "    def __init__(self, cfg):\n",
    "        super().__init__()\n",
    "        self.tok_emb = nn.Embedding(cfg.vocab_size, cfg.emb_dim, padding_idx=0)\n",
    "        self.pos_emb = nn.Embedding(cfg.context_length, cfg.emb_dim, padding_idx=0)\n",
    "        self.drop_emb = nn.Dropout(cfg.drop_rate)\n",
    "\n",
    "        self.trf_block = nn.Sequential(\n",
    "            *[TransformerBlock(cfg) for _ in range(cfg.n_layers)]\n",
    "        )\n",
    "\n",
    "        self.final_norm = LayerNorm(cfg.emb_dim)\n",
    "        self.out_head = nn.Linear(cfg.emb_dim, cfg.vocab_size, bias=False)\n",
    "\n",
    "    def forward(self, in_idx):\n",
    "        batch_size, seq_len = in_idx.shape\n",
    "            \n",
    "        tok_embds = self.tok_emb(in_idx)\n",
    "        pos_embeds = self.pos_emb(\n",
    "            torch.arange(seq_len, device=in_idx.device)\n",
    "        )\n",
    "        x = tok_embds + pos_embeds\n",
    "        x = self.drop_emb(x)\n",
    "        x = self.trf_block(x)\n",
    "        x = self.final_norm(x)\n",
    "        logits = self.out_head(x)\n",
    "            \n",
    "        return logits\n",
    "\n"
   ]
  },
  {
   "cell_type": "code",
   "execution_count": 10,
   "id": "35612da9",
   "metadata": {},
   "outputs": [
    {
     "name": "stdout",
     "output_type": "stream",
     "text": [
      "Input batch:\n",
      " tensor([[6109, 3626, 6100,  345],\n",
      "        [6109, 1110, 6622,  257]])\n",
      "\n",
      "Output shape: torch.Size([2, 4, 50257])\n",
      "tensor([[[-0.0299,  0.4016, -0.1832,  ...,  0.2382,  0.1335, -0.0026],\n",
      "         [-0.3660, -0.6070, -0.9522,  ...,  0.0185,  0.3878, -0.1475],\n",
      "         [ 0.6360,  0.0491, -0.1021,  ...,  0.2388, -0.5530, -0.1340],\n",
      "         [-1.0082,  0.6910, -0.2610,  ...,  0.9021,  0.3022,  0.0400]],\n",
      "\n",
      "        [[ 0.3452,  0.7111,  0.2879,  ...,  0.5134, -0.0839, -0.1846],\n",
      "         [ 0.0481,  0.4498, -0.0841,  ...,  1.0691,  0.0496,  0.5799],\n",
      "         [ 0.9337,  1.0010, -0.0713,  ...,  0.6798, -0.0080,  0.0108],\n",
      "         [-0.1759,  0.4921,  0.3420,  ...,  1.1668, -0.4244,  0.1454]]],\n",
      "       grad_fn=<UnsafeViewBackward0>)\n"
     ]
    }
   ],
   "source": [
    "torch.manual_seed(123)\n",
    "model = GPTModel(cfg=cfg)\n",
    "\n",
    "out = model(batch)\n",
    "print(\"Input batch:\\n\", batch)\n",
    "print(\"\\nOutput shape:\", out.shape)\n",
    "print(out)"
   ]
  },
  {
   "cell_type": "markdown",
   "id": "ce4a9a5a",
   "metadata": {},
   "source": [
    "### End of Architect\n",
    "--------------"
   ]
  },
  {
   "cell_type": "markdown",
   "id": "09e86b79",
   "metadata": {},
   "source": [
    "### 2. Generating Text"
   ]
  },
  {
   "cell_type": "code",
   "execution_count": 11,
   "id": "77ba013b",
   "metadata": {},
   "outputs": [
    {
     "data": {
      "text/plain": [
       "GPTModel(\n",
       "  (tok_emb): Embedding(50257, 768, padding_idx=0)\n",
       "  (pos_emb): Embedding(1024, 768, padding_idx=0)\n",
       "  (drop_emb): Dropout(p=0.1, inplace=False)\n",
       "  (trf_block): Sequential(\n",
       "    (0): TransformerBlock(\n",
       "      (norm1): LayerNorm()\n",
       "      (att): MultiHeadAttention(\n",
       "        (W_query): Linear(in_features=768, out_features=768, bias=False)\n",
       "        (W_key): Linear(in_features=768, out_features=768, bias=False)\n",
       "        (W_value): Linear(in_features=768, out_features=768, bias=False)\n",
       "        (proj_out): Linear(in_features=768, out_features=768, bias=True)\n",
       "        (drop): Dropout(p=0.1, inplace=False)\n",
       "      )\n",
       "      (drop_shortcut): Dropout(p=0.1, inplace=False)\n",
       "      (norm2): LayerNorm()\n",
       "      (ff): FeedForward(\n",
       "        (layer): Sequential(\n",
       "          (0): Linear(in_features=768, out_features=3072, bias=True)\n",
       "          (1): GELU(approximate='none')\n",
       "          (2): Linear(in_features=3072, out_features=768, bias=True)\n",
       "        )\n",
       "      )\n",
       "    )\n",
       "    (1): TransformerBlock(\n",
       "      (norm1): LayerNorm()\n",
       "      (att): MultiHeadAttention(\n",
       "        (W_query): Linear(in_features=768, out_features=768, bias=False)\n",
       "        (W_key): Linear(in_features=768, out_features=768, bias=False)\n",
       "        (W_value): Linear(in_features=768, out_features=768, bias=False)\n",
       "        (proj_out): Linear(in_features=768, out_features=768, bias=True)\n",
       "        (drop): Dropout(p=0.1, inplace=False)\n",
       "      )\n",
       "      (drop_shortcut): Dropout(p=0.1, inplace=False)\n",
       "      (norm2): LayerNorm()\n",
       "      (ff): FeedForward(\n",
       "        (layer): Sequential(\n",
       "          (0): Linear(in_features=768, out_features=3072, bias=True)\n",
       "          (1): GELU(approximate='none')\n",
       "          (2): Linear(in_features=3072, out_features=768, bias=True)\n",
       "        )\n",
       "      )\n",
       "    )\n",
       "    (2): TransformerBlock(\n",
       "      (norm1): LayerNorm()\n",
       "      (att): MultiHeadAttention(\n",
       "        (W_query): Linear(in_features=768, out_features=768, bias=False)\n",
       "        (W_key): Linear(in_features=768, out_features=768, bias=False)\n",
       "        (W_value): Linear(in_features=768, out_features=768, bias=False)\n",
       "        (proj_out): Linear(in_features=768, out_features=768, bias=True)\n",
       "        (drop): Dropout(p=0.1, inplace=False)\n",
       "      )\n",
       "      (drop_shortcut): Dropout(p=0.1, inplace=False)\n",
       "      (norm2): LayerNorm()\n",
       "      (ff): FeedForward(\n",
       "        (layer): Sequential(\n",
       "          (0): Linear(in_features=768, out_features=3072, bias=True)\n",
       "          (1): GELU(approximate='none')\n",
       "          (2): Linear(in_features=3072, out_features=768, bias=True)\n",
       "        )\n",
       "      )\n",
       "    )\n",
       "    (3): TransformerBlock(\n",
       "      (norm1): LayerNorm()\n",
       "      (att): MultiHeadAttention(\n",
       "        (W_query): Linear(in_features=768, out_features=768, bias=False)\n",
       "        (W_key): Linear(in_features=768, out_features=768, bias=False)\n",
       "        (W_value): Linear(in_features=768, out_features=768, bias=False)\n",
       "        (proj_out): Linear(in_features=768, out_features=768, bias=True)\n",
       "        (drop): Dropout(p=0.1, inplace=False)\n",
       "      )\n",
       "      (drop_shortcut): Dropout(p=0.1, inplace=False)\n",
       "      (norm2): LayerNorm()\n",
       "      (ff): FeedForward(\n",
       "        (layer): Sequential(\n",
       "          (0): Linear(in_features=768, out_features=3072, bias=True)\n",
       "          (1): GELU(approximate='none')\n",
       "          (2): Linear(in_features=3072, out_features=768, bias=True)\n",
       "        )\n",
       "      )\n",
       "    )\n",
       "    (4): TransformerBlock(\n",
       "      (norm1): LayerNorm()\n",
       "      (att): MultiHeadAttention(\n",
       "        (W_query): Linear(in_features=768, out_features=768, bias=False)\n",
       "        (W_key): Linear(in_features=768, out_features=768, bias=False)\n",
       "        (W_value): Linear(in_features=768, out_features=768, bias=False)\n",
       "        (proj_out): Linear(in_features=768, out_features=768, bias=True)\n",
       "        (drop): Dropout(p=0.1, inplace=False)\n",
       "      )\n",
       "      (drop_shortcut): Dropout(p=0.1, inplace=False)\n",
       "      (norm2): LayerNorm()\n",
       "      (ff): FeedForward(\n",
       "        (layer): Sequential(\n",
       "          (0): Linear(in_features=768, out_features=3072, bias=True)\n",
       "          (1): GELU(approximate='none')\n",
       "          (2): Linear(in_features=3072, out_features=768, bias=True)\n",
       "        )\n",
       "      )\n",
       "    )\n",
       "    (5): TransformerBlock(\n",
       "      (norm1): LayerNorm()\n",
       "      (att): MultiHeadAttention(\n",
       "        (W_query): Linear(in_features=768, out_features=768, bias=False)\n",
       "        (W_key): Linear(in_features=768, out_features=768, bias=False)\n",
       "        (W_value): Linear(in_features=768, out_features=768, bias=False)\n",
       "        (proj_out): Linear(in_features=768, out_features=768, bias=True)\n",
       "        (drop): Dropout(p=0.1, inplace=False)\n",
       "      )\n",
       "      (drop_shortcut): Dropout(p=0.1, inplace=False)\n",
       "      (norm2): LayerNorm()\n",
       "      (ff): FeedForward(\n",
       "        (layer): Sequential(\n",
       "          (0): Linear(in_features=768, out_features=3072, bias=True)\n",
       "          (1): GELU(approximate='none')\n",
       "          (2): Linear(in_features=3072, out_features=768, bias=True)\n",
       "        )\n",
       "      )\n",
       "    )\n",
       "    (6): TransformerBlock(\n",
       "      (norm1): LayerNorm()\n",
       "      (att): MultiHeadAttention(\n",
       "        (W_query): Linear(in_features=768, out_features=768, bias=False)\n",
       "        (W_key): Linear(in_features=768, out_features=768, bias=False)\n",
       "        (W_value): Linear(in_features=768, out_features=768, bias=False)\n",
       "        (proj_out): Linear(in_features=768, out_features=768, bias=True)\n",
       "        (drop): Dropout(p=0.1, inplace=False)\n",
       "      )\n",
       "      (drop_shortcut): Dropout(p=0.1, inplace=False)\n",
       "      (norm2): LayerNorm()\n",
       "      (ff): FeedForward(\n",
       "        (layer): Sequential(\n",
       "          (0): Linear(in_features=768, out_features=3072, bias=True)\n",
       "          (1): GELU(approximate='none')\n",
       "          (2): Linear(in_features=3072, out_features=768, bias=True)\n",
       "        )\n",
       "      )\n",
       "    )\n",
       "    (7): TransformerBlock(\n",
       "      (norm1): LayerNorm()\n",
       "      (att): MultiHeadAttention(\n",
       "        (W_query): Linear(in_features=768, out_features=768, bias=False)\n",
       "        (W_key): Linear(in_features=768, out_features=768, bias=False)\n",
       "        (W_value): Linear(in_features=768, out_features=768, bias=False)\n",
       "        (proj_out): Linear(in_features=768, out_features=768, bias=True)\n",
       "        (drop): Dropout(p=0.1, inplace=False)\n",
       "      )\n",
       "      (drop_shortcut): Dropout(p=0.1, inplace=False)\n",
       "      (norm2): LayerNorm()\n",
       "      (ff): FeedForward(\n",
       "        (layer): Sequential(\n",
       "          (0): Linear(in_features=768, out_features=3072, bias=True)\n",
       "          (1): GELU(approximate='none')\n",
       "          (2): Linear(in_features=3072, out_features=768, bias=True)\n",
       "        )\n",
       "      )\n",
       "    )\n",
       "    (8): TransformerBlock(\n",
       "      (norm1): LayerNorm()\n",
       "      (att): MultiHeadAttention(\n",
       "        (W_query): Linear(in_features=768, out_features=768, bias=False)\n",
       "        (W_key): Linear(in_features=768, out_features=768, bias=False)\n",
       "        (W_value): Linear(in_features=768, out_features=768, bias=False)\n",
       "        (proj_out): Linear(in_features=768, out_features=768, bias=True)\n",
       "        (drop): Dropout(p=0.1, inplace=False)\n",
       "      )\n",
       "      (drop_shortcut): Dropout(p=0.1, inplace=False)\n",
       "      (norm2): LayerNorm()\n",
       "      (ff): FeedForward(\n",
       "        (layer): Sequential(\n",
       "          (0): Linear(in_features=768, out_features=3072, bias=True)\n",
       "          (1): GELU(approximate='none')\n",
       "          (2): Linear(in_features=3072, out_features=768, bias=True)\n",
       "        )\n",
       "      )\n",
       "    )\n",
       "    (9): TransformerBlock(\n",
       "      (norm1): LayerNorm()\n",
       "      (att): MultiHeadAttention(\n",
       "        (W_query): Linear(in_features=768, out_features=768, bias=False)\n",
       "        (W_key): Linear(in_features=768, out_features=768, bias=False)\n",
       "        (W_value): Linear(in_features=768, out_features=768, bias=False)\n",
       "        (proj_out): Linear(in_features=768, out_features=768, bias=True)\n",
       "        (drop): Dropout(p=0.1, inplace=False)\n",
       "      )\n",
       "      (drop_shortcut): Dropout(p=0.1, inplace=False)\n",
       "      (norm2): LayerNorm()\n",
       "      (ff): FeedForward(\n",
       "        (layer): Sequential(\n",
       "          (0): Linear(in_features=768, out_features=3072, bias=True)\n",
       "          (1): GELU(approximate='none')\n",
       "          (2): Linear(in_features=3072, out_features=768, bias=True)\n",
       "        )\n",
       "      )\n",
       "    )\n",
       "    (10): TransformerBlock(\n",
       "      (norm1): LayerNorm()\n",
       "      (att): MultiHeadAttention(\n",
       "        (W_query): Linear(in_features=768, out_features=768, bias=False)\n",
       "        (W_key): Linear(in_features=768, out_features=768, bias=False)\n",
       "        (W_value): Linear(in_features=768, out_features=768, bias=False)\n",
       "        (proj_out): Linear(in_features=768, out_features=768, bias=True)\n",
       "        (drop): Dropout(p=0.1, inplace=False)\n",
       "      )\n",
       "      (drop_shortcut): Dropout(p=0.1, inplace=False)\n",
       "      (norm2): LayerNorm()\n",
       "      (ff): FeedForward(\n",
       "        (layer): Sequential(\n",
       "          (0): Linear(in_features=768, out_features=3072, bias=True)\n",
       "          (1): GELU(approximate='none')\n",
       "          (2): Linear(in_features=3072, out_features=768, bias=True)\n",
       "        )\n",
       "      )\n",
       "    )\n",
       "    (11): TransformerBlock(\n",
       "      (norm1): LayerNorm()\n",
       "      (att): MultiHeadAttention(\n",
       "        (W_query): Linear(in_features=768, out_features=768, bias=False)\n",
       "        (W_key): Linear(in_features=768, out_features=768, bias=False)\n",
       "        (W_value): Linear(in_features=768, out_features=768, bias=False)\n",
       "        (proj_out): Linear(in_features=768, out_features=768, bias=True)\n",
       "        (drop): Dropout(p=0.1, inplace=False)\n",
       "      )\n",
       "      (drop_shortcut): Dropout(p=0.1, inplace=False)\n",
       "      (norm2): LayerNorm()\n",
       "      (ff): FeedForward(\n",
       "        (layer): Sequential(\n",
       "          (0): Linear(in_features=768, out_features=3072, bias=True)\n",
       "          (1): GELU(approximate='none')\n",
       "          (2): Linear(in_features=3072, out_features=768, bias=True)\n",
       "        )\n",
       "      )\n",
       "    )\n",
       "  )\n",
       "  (final_norm): LayerNorm()\n",
       "  (out_head): Linear(in_features=768, out_features=50257, bias=False)\n",
       ")"
      ]
     },
     "execution_count": 11,
     "metadata": {},
     "output_type": "execute_result"
    }
   ],
   "source": [
    "torch.manual_seed(123)\n",
    "model = GPTModel(cfg=cfg)\n",
    "model.eval()"
   ]
  },
  {
   "cell_type": "code",
   "execution_count": 12,
   "id": "19fef445",
   "metadata": {},
   "outputs": [],
   "source": [
    "def generate_text_simple(model, idx, max_new_tokens, context_size):\n",
    "    for _ in range(max_new_tokens):\n",
    "        idx_cond = idx[:, -context_size:]\n",
    "        \n",
    "        with torch.no_grad():\n",
    "            logits = model(idx_cond)\n",
    "\n",
    "        last_logits = logits[:, -1, :] # last_logits is the logits for the last token in the sequence\n",
    "        probas = torch.softmax(last_logits, dim=-1)\n",
    "        idx_next = torch.argmax(probas, dim=-1, keepdim=True)\n",
    "        idx = torch.cat((idx, idx_next), dim=1)\n",
    "\n",
    "    return idx"
   ]
  },
  {
   "cell_type": "code",
   "execution_count": 13,
   "id": "ec460def",
   "metadata": {},
   "outputs": [
    {
     "name": "stdout",
     "output_type": "stream",
     "text": [
      "encoded: [40, 367, 2885, 1464, 1807]\n",
      "encoded_tensor.shape: torch.Size([1, 5])\n"
     ]
    }
   ],
   "source": [
    "start_context = \"I HAD always thought\"\n",
    "\n",
    "encoded = tokenizer.encode(start_context)\n",
    "print(\"encoded:\", encoded)\n",
    "\n",
    "encoded_tensor = torch.tensor(encoded).unsqueeze(0) # Add batch dimensio\n",
    "print(\"encoded_tensor.shape:\", encoded_tensor.shape) # (1, seq_len)"
   ]
  },
  {
   "cell_type": "code",
   "execution_count": 14,
   "id": "778353b7",
   "metadata": {},
   "outputs": [
    {
     "name": "stdout",
     "output_type": "stream",
     "text": [
      "output: tensor([[   40,   367,  2885,  1464,  1807, 41117,  5824, 39347, 41341, 31192,\n",
      "         12676]])\n",
      "output Length 11\n"
     ]
    }
   ],
   "source": [
    "model.eval() # Set the model to evaluation mode\n",
    "\n",
    "out = generate_text_simple(\n",
    "    model, idx=encoded_tensor,\n",
    "    max_new_tokens=6,\n",
    "    context_size=cfg.context_length\n",
    ")\n",
    "\n",
    "print(\"output:\", out)\n",
    "print(\"output Length\", len(out[0]))"
   ]
  },
  {
   "cell_type": "code",
   "execution_count": 15,
   "id": "1901d121",
   "metadata": {},
   "outputs": [
    {
     "name": "stdout",
     "output_type": "stream",
     "text": [
      "I HAD always thought discriminated94 phpprocessor fertileombies\n"
     ]
    }
   ],
   "source": [
    "decoded_text = tokenizer.decode(out.squeeze(0).tolist())\n",
    "print(decoded_text)"
   ]
  },
  {
   "cell_type": "code",
   "execution_count": 16,
   "id": "7d075759",
   "metadata": {},
   "outputs": [],
   "source": [
    "def text_to_token_ids(text, tokenizer):\n",
    "    encoded = tokenizer.encode(text, allowed_special={'<|endoftext|>'}) # allowed_special makes sure special tokens are handled correctly \n",
    "    encoded_tensor = torch.tensor(encoded).unsqueeze(0) # unsqueeze to add batch dimension\n",
    "    \n",
    "    return encoded_tensor\n",
    "\n",
    "def token_ids_to_text(token_ids, tokenizer):\n",
    "    flat = token_ids.squeeze(0) # Convert to 1D tensor and remove batch dimension\n",
    "    return tokenizer.decode(flat.tolist()) # Convert to list for decoding"
   ]
  },
  {
   "cell_type": "code",
   "execution_count": 17,
   "id": "b95c7029",
   "metadata": {},
   "outputs": [
    {
     "name": "stdout",
     "output_type": "stream",
     "text": [
      "Output text:\n",
      " Every effort moves you Aeiman Byeswick lugDDcompl shotguntenance IR\n"
     ]
    }
   ],
   "source": [
    "start_context = \"Every effort moves you\"\n",
    "\n",
    "token_ids = generate_text_simple(\n",
    "    model, \n",
    "    idx= text_to_token_ids(start_context, tokenizer),\n",
    "    max_new_tokens=10,\n",
    "    context_size=cfg.context_length\n",
    ")\n",
    "\n",
    "print(\"Output text:\\n\", token_ids_to_text(token_ids, tokenizer))\n"
   ]
  },
  {
   "cell_type": "code",
   "execution_count": 18,
   "id": "825477ac",
   "metadata": {},
   "outputs": [],
   "source": [
    "inputs = torch.tensor([[16833, 3626, 6100],\n",
    " [40, 1107, 588]])"
   ]
  },
  {
   "cell_type": "code",
   "execution_count": 19,
   "id": "6c7d7106",
   "metadata": {},
   "outputs": [],
   "source": [
    "targets = torch.tensor([[3626, 6100, 345 ],\n",
    " [1107, 588, 11311]])"
   ]
  },
  {
   "cell_type": "code",
   "execution_count": 20,
   "id": "c787b6e1",
   "metadata": {},
   "outputs": [
    {
     "name": "stdout",
     "output_type": "stream",
     "text": [
      "torch.Size([2, 3, 50257])\n"
     ]
    }
   ],
   "source": [
    "with torch.no_grad():\n",
    "    logits = model(inputs)\n",
    "probas = torch.softmax(logits, dim=-1)\n",
    "print(probas.shape)\n"
   ]
  },
  {
   "cell_type": "code",
   "execution_count": 21,
   "id": "9359de02",
   "metadata": {},
   "outputs": [
    {
     "name": "stdout",
     "output_type": "stream",
     "text": [
      "Token IDs:\n",
      " tensor([[[ 5119],\n",
      "         [15899],\n",
      "         [20610]],\n",
      "\n",
      "        [[23598],\n",
      "         [49289],\n",
      "         [24570]]])\n"
     ]
    }
   ],
   "source": [
    "token_ids = torch.argmax(probas, dim=-1, keepdim=True)\n",
    "print(\"Token IDs:\\n\", token_ids)"
   ]
  },
  {
   "cell_type": "code",
   "execution_count": 22,
   "id": "cd881079",
   "metadata": {},
   "outputs": [
    {
     "name": "stdout",
     "output_type": "stream",
     "text": [
      "Targets batch 1:  effort moves you\n",
      "Outputs batch 1: ogue SpotFriday\n"
     ]
    }
   ],
   "source": [
    "print(f\"Targets batch 1: {token_ids_to_text(targets[0], tokenizer)}\")\n",
    "print(f\"Outputs batch 1:\"\n",
    " f\" {token_ids_to_text(token_ids[0].flatten(), tokenizer)}\")"
   ]
  },
  {
   "attachments": {
    "image.png": {
     "image/png": "[encoded data removed]"
    }
   },
   "cell_type": "markdown",
   "id": "f19caaa9",
   "metadata": {},
   "source": [
    "![image.png](attachment:image.png)"
   ]
  },
  {
   "cell_type": "markdown",
   "id": "9d85a799",
   "metadata": {},
   "source": [
    "⸻\n",
    "\n",
    "🧠 LLM Training Workflow & Evaluation Strategy\n",
    "\n",
    "📌 Overview of the Training Pipeline\n",
    "\n",
    "The diagram below summarizes the complete workflow for building and evaluating a Language Model (LLM):\n",
    "\n",
    "1) Text Generation           🔄 Generate text using current model\n",
    "2) Text Evaluation           📏 Compare output with target (ground truth)\n",
    "3) Training & Validation     📉 Compute loss between prediction and target\n",
    "4) Training Function         🔧 Update model weights via backpropagation\n",
    "5) Text Generation Strategies🪄 Improve diversity & reduce memorization\n",
    "6) Weight Saving & Loading   💾 Save model to resume training later\n",
    "7) Pretrained Weights        📦 Use OpenAI pretrained weights to warm-start\n",
    "\n",
    "👉 Each of these blocks represents a critical phase in the lifecycle of LLM development. This structured design helps balance generation quality, evaluation accuracy, and training efficiency.\n",
    "\n",
    "⸻\n",
    "\n",
    "🎯 Objective During Training\n",
    "\n",
    "“The model training aims to increase the softmax probability in the index positions corresponding to the correct target token IDs.” — Sebastian Raschka\n",
    "\n",
    "\t•\tAfter each forward pass, the model produces a logits tensor of shape [batch_size, seq_len, vocab_size].\n",
    "\t•\tThese logits are passed through a softmax layer, converting them to a probability distribution over the vocabulary.\n",
    "\t•\tDuring training, we maximize the probability of the correct next token (target) by computing the cross-entropy loss between the predicted probability distribution and the actual token ID.\n",
    "\t•\tThis process encourages the model to generate outputs that match the ground truth tokens as closely as possible.\n",
    "\n",
    "⸻\n",
    "\n",
    "✅ Evaluation Metric\n",
    "\n",
    "We use the softmax score at the target token position as a numerical measure of how confident the model is in its prediction.\n",
    "\n",
    "💡 “The higher the probability assigned to the correct token, the better.”\n",
    "\n",
    "This probability also forms the basis for computing perplexity, a common metric for evaluating language models."
   ]
  },
  {
   "cell_type": "code",
   "execution_count": 23,
   "id": "06fc7a5b",
   "metadata": {},
   "outputs": [
    {
     "name": "stdout",
     "output_type": "stream",
     "text": [
      "tensor([  345, 11311])\n",
      "Target text: tensor([[  345],\n",
      "        [11311]])\n"
     ]
    }
   ],
   "source": [
    "text_idx = 1\n",
    "# [:, -1] to get the last token in each sequence and flatten the tensor\n",
    "target_text = targets[:, -1]\n",
    "print(target_text)\n",
    "\n",
    "# [:, -1:] to get the last token in each sequence and keep the batch dimension\n",
    "target_text = targets[:, -1:]\n",
    "print(\"Target text:\", target_text)"
   ]
  },
  {
   "cell_type": "markdown",
   "id": "d8778cbd",
   "metadata": {},
   "source": [
    "⸻\n",
    "\n",
    "\n",
    "## 🔄 Python List Comprehension Cheatsheet\n",
    "\n",
    "Python list comprehension provides a concise way to create lists. The general syntax is:\n",
    "\n",
    "```python\n",
    "[expression for item in iterable if condition]\n",
    "\n",
    "🔁 Equivalent to a standard for-loop:\n",
    "\n",
    "# Traditional way\n",
    "squares = []\n",
    "for x in range(5):\n",
    "    squares.append(x ** 2)\n",
    "\n",
    "# List comprehension version\n",
    "squares = [x ** 2 for x in range(5)]\n",
    "\n",
    "\n",
    "⸻\n",
    "\n",
    "✅ Use Case in Our GPT Project\n",
    "\n",
    "We want to extract the predicted probabilities (from probas) for the correct target token in each row.\n",
    "\n",
    "❌ Incorrect attempt:\n",
    "\n",
    "target_probas_2 = [\n",
    "    target_probas_1 = probas[count, [0, 1, 2], targets[count]]\n",
    "    for count in range(len(targets))\n",
    "]\n",
    "\n",
    "This throws a SyntaxError because assignment (=) is not allowed inside list comprehensions.\n",
    "\n",
    "⸻\n",
    "\n",
    "✅ Correct version:\n",
    "\n",
    "target_probas_2 = [\n",
    "    probas[count, [0, 1, 2], targets[count]]\n",
    "    for count in range(len(targets))\n",
    "]\n",
    "\n",
    "This creates a list of probabilities for each item in targets using clean list comprehension.\n",
    "\n",
    "⸻\n",
    "\n",
    "💡 Tip\n",
    "\t•\tList comprehensions must contain an expression only, not a statement like assignment.\n",
    "\t•\tFor more complex logic (e.g. multiple lines), use a regular for loop instead.\n",
    "\n",
    "---"
   ]
  },
  {
   "cell_type": "code",
   "execution_count": 24,
   "id": "68676e89",
   "metadata": {},
   "outputs": [
    {
     "name": "stdout",
     "output_type": "stream",
     "text": [
      "tensor([2.7392e-05, 1.7369e-05, 1.2872e-05])\n",
      "tensor([2.9864e-05, 1.5725e-05, 1.0762e-05])\n",
      "Target probabilities for each text index: [tensor([2.7392e-05, 1.7369e-05, 1.2872e-05]), tensor([2.9864e-05, 1.5725e-05, 1.0762e-05])]\n"
     ]
    }
   ],
   "source": [
    "for count in range(len(targets)):\n",
    "    text_idx = count\n",
    "    # Get the probabilities for the target tokens in the current text index\n",
    "    target_probas_1 = probas[text_idx, [0, 1, 2], targets[count]]\n",
    "    print(target_probas_1)\n",
    "\n",
    "\n",
    "target_probas_2 = [\n",
    "    probas[count, [0, 1, 2], targets[count]]  for count in range(len(targets))\n",
    "                   ]\n",
    "print(\"Target probabilities for each text index:\", target_probas_2)\n"
   ]
  },
  {
   "cell_type": "code",
   "execution_count": 25,
   "id": "cc2b1b9e",
   "metadata": {},
   "outputs": [
    {
     "name": "stdout",
     "output_type": "stream",
     "text": [
      "tensor([2.7392e-05, 1.7369e-05, 1.2872e-05])\n",
      "tensor([2.9864e-05, 1.5725e-05, 1.0762e-05])\n"
     ]
    }
   ],
   "source": [
    "text_idx = 0\n",
    "target_probas_1 = probas[text_idx, [0, 1, 2], targets[text_idx]]\n",
    "print(target_probas_1)\n",
    "\n",
    "text_idx = 1\n",
    "target_probas_2 = probas[text_idx, [0, 1, 2], targets[text_idx]]\n",
    "print(target_probas_2)\n"
   ]
  },
  {
   "cell_type": "markdown",
   "id": "1e00e120",
   "metadata": {},
   "source": [
    "## 📉 Why We Use log() for Probabilities in Language Modeling\n",
    "\n",
    "When dealing with very small probabilities (e.g., 1e-5), multiplying them directly can quickly lead to *underflow*, making the values too small for floating point precision.\n",
    "\n",
    "### 💡 Solution: Use Log Probabilities\n",
    "\n",
    "Instead of multiplying:\n",
    "\n",
    "$$\n",
    "P_{\\text{total}} = p_1 \\times p_2 \\times p_3 \\times \\dots\n",
    "$$\n",
    "\n",
    "We compute:\n",
    "\n",
    "$$\n",
    "\\log(P_{\\text{total}}) = \\log(p_1) + \\log(p_2) + \\log(p_3) + \\dots\n",
    "$$\n",
    "\n",
    "### ✅ Benefits of Using Log Probabilities:\n",
    "- Prevents *numerical underflow* when chaining many probabilities.\n",
    "- Converts *multiplication into addition*, which is computationally more stable.\n",
    "- Required for loss functions like *Negative Log Likelihood (NLL)* and *Cross-Entropy Loss*, which are based on log probabilities.\n",
    "\n",
    "---\n",
    "\n",
    "### 🔢 Example (Python code):\n",
    "```python\n",
    "log_probas = torch.log(torch.cat((target_probas_1, target_probas_2)))"
   ]
  },
  {
   "cell_type": "code",
   "execution_count": 26,
   "id": "f52d0ed2",
   "metadata": {},
   "outputs": [
    {
     "name": "stdout",
     "output_type": "stream",
     "text": [
      "tensor([-10.5053, -10.9608, -11.2604, -10.4189, -11.0602, -11.4395])\n"
     ]
    }
   ],
   "source": [
    "log_probas = torch.log(torch.cat((target_probas_1, target_probas_2)))\n",
    "print(log_probas)"
   ]
  },
  {
   "cell_type": "code",
   "execution_count": 27,
   "id": "476204fb",
   "metadata": {},
   "outputs": [
    {
     "name": "stdout",
     "output_type": "stream",
     "text": [
      "tensor(-10.9409)\n"
     ]
    }
   ],
   "source": [
    "# ___avg_log_probas = torch.mean(log_probas) use because it is the average of the log probabilities of the target tokens across all texts in the batch\n",
    "# ___This gives a single value that represents the average log probability of the target tokens.\n",
    "# ___It uses to calculate the average log probability of the target tokens across all texts in the batch.\n",
    "avg_log_probas = torch.mean(log_probas)\n",
    "print(avg_log_probas)"
   ]
  },
  {
   "cell_type": "code",
   "execution_count": 28,
   "id": "e811dcf3",
   "metadata": {},
   "outputs": [
    {
     "name": "stdout",
     "output_type": "stream",
     "text": [
      "tensor(10.9409)\n"
     ]
    }
   ],
   "source": [
    "# ___if avg_log_probas <= 0  then we take the negative of the average log probabilities\n",
    "# ___This is because log probabilities can be negative, and we want to ensure that the final value is non-negative.\n",
    "# ___If avg_log_probas is positive, we keep it as is.\n",
    "if avg_log_probas <= 0 :\n",
    "    neg_avg_log_probas = avg_log_probas * -1\n",
    "    print(neg_avg_log_probas)\n",
    "else:\n",
    "    print(avg_log_probas)"
   ]
  },
  {
   "cell_type": "code",
   "execution_count": 29,
   "id": "3a928e37",
   "metadata": {},
   "outputs": [
    {
     "name": "stdout",
     "output_type": "stream",
     "text": [
      "Logits shape: torch.Size([2, 3, 50257])\n",
      "Targets shape: torch.Size([2, 3])\n"
     ]
    }
   ],
   "source": [
    "# Print the shapes of logits and targets because they are important for debugging \n",
    "# and understanding the model's output\n",
    "print(\"Logits shape:\", logits.shape)\n",
    "print(\"Targets shape:\", targets.shape)"
   ]
  },
  {
   "cell_type": "code",
   "execution_count": 30,
   "id": "3cc7189e",
   "metadata": {},
   "outputs": [
    {
     "name": "stdout",
     "output_type": "stream",
     "text": [
      "Logits flat shape: torch.Size([6, 50257])\n",
      "Targets flat shape: torch.Size([6])\n"
     ]
    }
   ],
   "source": [
    "# Flatten the logits tensor to prepare for further processing\n",
    "# This is useful for calculating probabilities or loss functions that require a 1D tensor.\n",
    "logits_flat = logits.flatten(start_dim=0, end_dim=1)\n",
    "target_flat = targets.flatten(start_dim=0, end_dim=1)\n",
    "\n",
    "print(\"Logits flat shape:\", logits_flat.shape)\n",
    "print(\"Targets flat shape:\", target_flat.shape)\n"
   ]
  },
  {
   "cell_type": "code",
   "execution_count": 31,
   "id": "8b613d48",
   "metadata": {},
   "outputs": [
    {
     "name": "stdout",
     "output_type": "stream",
     "text": [
      "Loss:\n",
      " 10.940853118896484\n",
      "Loss :\n",
      " tensor(10.9409)\n"
     ]
    }
   ],
   "source": [
    "loss = torch.nn.functional.cross_entropy(\n",
    "    logits_flat, \n",
    "    target_flat, \n",
    "    ignore_index=0  # Ignore padding index and make sure it does not affect the loss calculation\n",
    ")\n",
    "# deference between loss.item() and loss :\n",
    "# loss.item() returns a Python number, while loss is a tensor.\n",
    "print(\"Loss:\\n\", loss.item())\n",
    "print(\"Loss :\\n\", loss)"
   ]
  },
  {
   "cell_type": "markdown",
   "id": "4c475eca",
   "metadata": {},
   "source": [
    "⸻\n",
    "\n",
    "\n",
    "## 🤯 What is Perplexity in Language Modeling?\n",
    "\n",
    "*Perplexity* is a commonly used evaluation metric in language models, often used alongside *cross-entropy loss. It provides an interpretable way to assess the **uncertainty* of a model when predicting the next token in a sequence.\n",
    "\n",
    "---\n",
    "\n",
    "### 📏 How Does Perplexity Work?\n",
    "\n",
    "- Perplexity measures *how well the predicted probability distribution* matches the true distribution of words in the dataset.\n",
    "- A *lower perplexity* indicates that the model is more confident and accurate in its predictions.\n",
    "- A *higher perplexity* suggests that the model is more \"confused\" about which token comes next.\n",
    "\n",
    "---\n",
    "\n",
    "### 🔍 Why Perplexity is Useful\n",
    "\n",
    "- Unlike raw loss values, perplexity gives you an idea of the *effective vocabulary size* the model is uncertain about at each prediction step.\n",
    "- For example:\n",
    "  \n",
    "  If the model has a perplexity of 48725.82 (as in the image), that means it is roughly as uncertain as *randomly picking from 48,725 tokens* — which is the full vocabulary size!\n",
    "\n",
    "---\n",
    "\n",
    "### 📐 Formula\n",
    "\n",
    "Given the *average loss* across tokens:\n",
    "\n",
    "$$\n",
    "\\text{Perplexity} = \\exp(\\text{loss})\n",
    "$$\n",
    "\n",
    "---\n",
    "\n",
    "### ✅ Interpretation\n",
    "\n",
    "- Perplexity = 1 → perfect confidence (ideal case)\n",
    "- Perplexity = |V| (vocabulary size) → completely uniform prediction (worst case)\n",
    "- Lower perplexity = better language model\n",
    "\n",
    "---\n",
    "\n",
    "### 🧪 Example (PyTorch):\n",
    "\n",
    "```python\n",
    "perplexity = torch.exp(loss)\n",
    "print(perplexity)\n",
    "\n",
    "This converts your final cross-entropy loss into a meaningful perplexity value"
   ]
  },
  {
   "cell_type": "code",
   "execution_count": 32,
   "id": "14ddf20d",
   "metadata": {},
   "outputs": [
    {
     "name": "stdout",
     "output_type": "stream",
     "text": [
      "Perplexity: 56435.46875\n"
     ]
    }
   ],
   "source": [
    "perplexity = torch.exp(loss)\n",
    "print(\"Perplexity:\", perplexity.item())"
   ]
  },
  {
   "cell_type": "markdown",
   "id": "bc1ba895",
   "metadata": {},
   "source": [
    "### 5.1.3 Calculating the training and validation set losses"
   ]
  },
  {
   "cell_type": "code",
   "execution_count": 33,
   "id": "fe253eca",
   "metadata": {},
   "outputs": [],
   "source": [
    "file_path = \"C:/Users/Taha/OneDrive/Desktop/LLM/Book/the-verdict.txt\"\n",
    "with open(file_path, \"r\", encoding=\"utf-8\") as file:\n",
    " text_data = file.read()"
   ]
  },
  {
   "cell_type": "code",
   "execution_count": 34,
   "id": "2bc30a99",
   "metadata": {},
   "outputs": [
    {
     "name": "stdout",
     "output_type": "stream",
     "text": [
      "Characters: 20479\n",
      "Tokens: 5145\n"
     ]
    }
   ],
   "source": [
    "total_characters = len(text_data)\n",
    "total_tokens = len(tokenizer.encode(text_data))\n",
    "print(\"Characters:\", total_characters)\n",
    "print(\"Tokens:\", total_tokens)"
   ]
  },
  {
   "cell_type": "code",
   "execution_count": 35,
   "id": "858c2ea6",
   "metadata": {},
   "outputs": [],
   "source": [
    "train_ratio = 0.90\n",
    "split_idx = int(train_ratio * len(text_data))\n",
    "train_data = text_data[:split_idx]\n",
    "val_data = text_data[split_idx:]"
   ]
  },
  {
   "cell_type": "code",
   "execution_count": 36,
   "id": "6a8333ba",
   "metadata": {},
   "outputs": [],
   "source": [
    "from torch.utils.data import Dataset, DataLoader\n",
    "\n",
    "class GPTDataset(Dataset):\n",
    "    def __init__(self, txt, tokenizer, max_length, stride):\n",
    "        super().__init__()\n",
    "        \n",
    "        self.input_ids = []\n",
    "        self.target_ids = []\n",
    "\n",
    "        token_ids = tokenizer.encode(txt)\n",
    "        length = len(token_ids)\n",
    "        \n",
    "        for i in range(0, len(token_ids) - max_length - 1, stride):\n",
    "            input_chunk = token_ids[i : i + max_length]\n",
    "            target_chunk = token_ids[i + 1 : i + 1 + max_length]\n",
    "\n",
    "            if len(input_chunk) == max_length and len(target_chunk) == max_length:\n",
    "                self.input_ids.append(torch.tensor(input_chunk))\n",
    "                self.target_ids.append(torch.tensor(target_chunk))\n",
    "                \n",
    "\n",
    "    def __len__(self):\n",
    "        return len(self.input_ids)\n",
    "\n",
    "    def __getitem__(self, index):\n",
    "        return self.input_ids[index], self.target_ids[index]"
   ]
  },
  {
   "cell_type": "code",
   "execution_count": 37,
   "id": "09404c55",
   "metadata": {},
   "outputs": [],
   "source": [
    "def create_dataloader_v1(\n",
    "        txt:str, \n",
    "        batch_size:int, \n",
    "        max_length:int, \n",
    "        stride: int, \n",
    "        shuffle: bool, \n",
    "        drop_last: bool, \n",
    "        num_workers: int\n",
    "):\n",
    "     dataset = GPTDataset(\n",
    "          txt = txt,\n",
    "          tokenizer=tokenizer,\n",
    "          max_length=max_length,\n",
    "          stride=stride\n",
    "     )\n",
    "\n",
    "     dataloader = DataLoader(\n",
    "          dataset=dataset,\n",
    "          batch_size=batch_size,\n",
    "          shuffle=shuffle,\n",
    "          drop_last=drop_last,\n",
    "          num_workers=num_workers\n",
    "     )\n",
    "\n",
    "     return dataloader"
   ]
  },
  {
   "cell_type": "code",
   "execution_count": 38,
   "id": "4cc98417",
   "metadata": {},
   "outputs": [],
   "source": [
    "torch.manual_seed(123)\n",
    "\n",
    "train_loader = create_dataloader_v1(\n",
    "    txt=train_data,\n",
    "    batch_size=2,\n",
    "    max_length=256,\n",
    "    stride=256,\n",
    "    drop_last=True,\n",
    "    shuffle=True,\n",
    "    num_workers=0\n",
    ")\n",
    "\n",
    "val_loader = create_dataloader_v1(\n",
    "    txt=val_data,\n",
    "    batch_size=2,\n",
    "    max_length=256,\n",
    "    stride=256,\n",
    "    drop_last=False,\n",
    "    shuffle=False,\n",
    "    num_workers=0\n",
    ")"
   ]
  },
  {
   "cell_type": "code",
   "execution_count": 39,
   "id": "ab28b889",
   "metadata": {},
   "outputs": [
    {
     "name": "stdout",
     "output_type": "stream",
     "text": [
      "Train loader:\n",
      "torch.Size([2, 256]) torch.Size([2, 256])\n",
      "torch.Size([2, 256]) torch.Size([2, 256])\n",
      "torch.Size([2, 256]) torch.Size([2, 256])\n",
      "torch.Size([2, 256]) torch.Size([2, 256])\n",
      "torch.Size([2, 256]) torch.Size([2, 256])\n",
      "torch.Size([2, 256]) torch.Size([2, 256])\n",
      "torch.Size([2, 256]) torch.Size([2, 256])\n",
      "torch.Size([2, 256]) torch.Size([2, 256])\n",
      "torch.Size([2, 256]) torch.Size([2, 256])\n",
      "\n",
      "Validation loader:\n",
      "torch.Size([2, 256]) torch.Size([2, 256])\n"
     ]
    }
   ],
   "source": [
    "print(\"Train loader:\")\n",
    "for inputs, targets in train_loader:\n",
    " print(inputs.shape, targets.shape)\n",
    "print(\"\\nValidation loader:\")\n",
    "for inputs, targets in val_loader:\n",
    " print(inputs.shape, targets.shape)\n"
   ]
  },
  {
   "cell_type": "code",
   "execution_count": 40,
   "id": "ba01c11c",
   "metadata": {},
   "outputs": [],
   "source": [
    "def calc_loss_batch(input_batch, target_batch, model, device):\n",
    "    input_batch = input_batch.to(device)\n",
    "    target_batch = target_batch.to(device)\n",
    "\n",
    "    logits = model(input_batch)\n",
    "    loss = torch.nn.functional.cross_entropy(\n",
    "        logits.flatten(0, 1), target_batch.flatten()\n",
    "    )\n",
    "\n",
    "    return loss"
   ]
  },
  {
   "cell_type": "code",
   "execution_count": 41,
   "id": "e2f591b7",
   "metadata": {},
   "outputs": [],
   "source": [
    "# Calculate the loss for a DataLoader\n",
    "# This function iterates over the DataLoader and computes the total loss for the dataset.\n",
    "# data_loader: The DataLoader containing the dataset like train_loader or val_loader\n",
    "def calc_loss_loader(data_loader, model, device, num_batches=None):\n",
    "    total_loss = 0\n",
    "    num_batches = len(data_loader)\n",
    "\n",
    "    if num_batches == 0:\n",
    "        return float('nan')\n",
    "\n",
    "    for input_batch, target_batch in data_loader:\n",
    "        loss = calc_loss_batch(input_batch, target_batch, model, device) # Calculate loss for the batch\n",
    "        total_loss += loss.item() # Accumulate the loss for each batch\n",
    "\n",
    "    return total_loss / num_batches # Average loss per batch"
   ]
  },
  {
   "cell_type": "code",
   "execution_count": 42,
   "id": "1e459a53",
   "metadata": {},
   "outputs": [
    {
     "name": "stdout",
     "output_type": "stream",
     "text": [
      "Training loss: 10.990754869249132\n",
      "Validation loss: 10.993842124938965\n"
     ]
    }
   ],
   "source": [
    "model.to(device)\n",
    "\n",
    "with torch.no_grad():\n",
    "    train_loss = calc_loss_loader(train_loader, model, device)\n",
    "    val_loss = calc_loss_loader(val_loader, model, device)\n",
    "\n",
    "print(\"Training loss:\", train_loss)\n",
    "print(\"Validation loss:\", val_loss)"
   ]
  },
  {
   "cell_type": "markdown",
   "id": "2276e5a5",
   "metadata": {},
   "source": [
    "### Training an LLM :\n"
   ]
  },
  {
   "cell_type": "code",
   "execution_count": 43,
   "id": "779b5c1a",
   "metadata": {},
   "outputs": [],
   "source": [
    "def train_model_simple(model, train_loader, val_loader, \n",
    "                       optimizer, device, num_epochs,\n",
    "                       eval_iter, eval_freq, start_context, tokenizer):\n",
    "    #eval_freq: Frequency of evaluation on the validation set,*|>\n",
    "    # *|> it is used to determine how often the model should be evaluated during training.\n",
    "    #eval_iter: Number of iterations to evaluate the model\n",
    "\n",
    "    # track_tokens_seen  is a list that will keep track of the number of tokens seen during training\n",
    "    # It is initialized as an empty list at the beginning of the training process.\n",
    "    # global_step: A counter that keeps track of the number of training steps taken so far.\n",
    "    # token_seen: A counter that keeps track of the number of tokens seen during training.\n",
    "    train_losses, val_losses, track_tokens_seen = [], [], []\n",
    "    tokens_seen, global_step = 0, -1\n",
    "\n",
    "    for epoch in range(num_epochs):\n",
    "        model.train()\n",
    "        for input_batch, target_batch in train_loader:\n",
    "            optimizer.zero_grad()\n",
    "            loss = calc_loss_batch(\n",
    "                input_batch, target_batch, model, device\n",
    "            )\n",
    "            loss.backward()\n",
    "            optimizer.step()\n",
    "            \n",
    "            #input_batch.numel() returns the total number of elements in the input batch tensor\n",
    "            #.numel() is a method that returns the total number of elements in a tensor.\n",
    "            tokens_seen += input_batch.numel()\n",
    "            global_step += 1\n",
    "\n",
    "            if global_step % eval_freq == 0:\n",
    "                train_loss, val_loss = evaluate_model(\n",
    "                    model, train_loader, val_loader, device, eval_iter)\n",
    "                train_losses.append(train_loss)\n",
    "                val_losses.append(val_loss)\n",
    "                track_tokens_seen.append(tokens_seen)\n",
    "                print(f\"Ep {epoch+1} (Step {global_step:06d}): \"\n",
    "                      f\"Train loss {train_loss:.3f}, \"\n",
    "                      f\"Val loss {val_loss:.3f}\"\n",
    "                      )\n",
    "                \n",
    "        generate_and_print_Sample(\n",
    "            model, tokenizer, device, start_context\n",
    "            )\n",
    "\n",
    "\n",
    "    return train_losses, val_losses, track_tokens_seen"
   ]
  },
  {
   "cell_type": "code",
   "execution_count": 44,
   "id": "2afaff01",
   "metadata": {},
   "outputs": [],
   "source": [
    "def evaluate_model(model, train_loader, val_loader, device, eval_iter):\n",
    "    model.eval()\n",
    "    with torch.no_grad():\n",
    "        train_loss = calc_loss_loader(\n",
    "            train_loader, model, device, num_batches = eval_iter\n",
    "        )\n",
    "        val_loss = calc_loss_loader(\n",
    "            val_loader, model, device, num_batches = eval_iter\n",
    "        )\n",
    "        model.train()\n",
    "        return train_loss, val_loss"
   ]
  },
  {
   "cell_type": "code",
   "execution_count": 45,
   "id": "4bfe65b7",
   "metadata": {},
   "outputs": [],
   "source": [
    "def generate_and_print_Sample(model, tokenizer, device, start_context):\n",
    "    model.eval()\n",
    "    context_size = model.pos_emb.weight.shape[0]\n",
    "    encoded = text_to_token_ids(start_context, tokenizer).to(device)\n",
    "    with torch.no_grad():\n",
    "        token_ids = generate_text_simple(\n",
    "            model, idx = encoded, \n",
    "            max_new_tokens=10, context_size=context_size\n",
    "            )\n",
    "        \n",
    "    decoded_text = token_ids_to_text(token_ids, tokenizer)\n",
    "    print(decoded_text.replace(\"\\n\", \" \"))\n",
    "    model.train()\n"
   ]
  },
  {
   "cell_type": "code",
   "execution_count": 46,
   "id": "6e3c9043",
   "metadata": {},
   "outputs": [
    {
     "name": "stdout",
     "output_type": "stream",
     "text": [
      "Ep 1 (Step 000000): Train loss 9.907, Val loss 10.019\n",
      "Ep 1 (Step 000005): Train loss 8.125, Val loss 8.378\n",
      "I love you .         \n",
      "Ep 2 (Step 000010): Train loss 6.695, Val loss 7.038\n",
      "Ep 2 (Step 000015): Train loss 6.063, Val loss 6.621\n",
      "I love you , and I.      \n",
      "Ep 3 (Step 000020): Train loss 5.550, Val loss 6.504\n",
      "Ep 3 (Step 000025): Train loss 5.423, Val loss 6.363\n",
      "I love you  of the Gisburn. Gisburn--\n",
      "Ep 4 (Step 000030): Train loss 5.054, Val loss 6.351\n",
      "Ep 4 (Step 000035): Train loss 4.553, Val loss 6.347\n",
      "I love you  hisburn's. \"I had been to\n",
      "Ep 5 (Step 000040): Train loss 4.154, Val loss 6.230\n",
      "I love you  I felt it--I had been.  \n",
      "Ep 6 (Step 000045): Train loss 3.733, Val loss 6.178\n",
      "Ep 6 (Step 000050): Train loss 3.262, Val loss 6.208\n",
      "I love you  I felt it.      \n",
      "Ep 7 (Step 000055): Train loss 2.840, Val loss 6.169\n",
      "Ep 7 (Step 000060): Train loss 2.414, Val loss 6.215\n",
      "I love you  I felt it was a little the fact--his\n",
      "Ep 8 (Step 000065): Train loss 2.017, Val loss 6.255\n",
      "Ep 8 (Step 000070): Train loss 1.685, Val loss 6.269\n",
      "I love you  thought Jack Gisburn--I glanced after him\n",
      "Ep 9 (Step 000075): Train loss 1.351, Val loss 6.234\n",
      "Ep 9 (Step 000080): Train loss 1.050, Val loss 6.312\n",
      "I love you  thought Jack Gisburn rather a cheap genius--\n",
      "Ep 10 (Step 000085): Train loss 0.820, Val loss 6.391\n",
      "I love you  thought Jack Gisburn rather a cheap genius--\n"
     ]
    }
   ],
   "source": [
    "torch.manual_seed(123)\n",
    "model = GPTModel(cfg=cfg)\n",
    "model.to(device)\n",
    "optimizer = torch.optim.AdamW(\n",
    " model.parameters(),\n",
    " lr=0.0004, weight_decay=0.1\n",
    ")\n",
    "num_epochs = 10\n",
    "train_losses, val_losses, tokens_seen = train_model_simple(\n",
    " model, train_loader, val_loader, optimizer, device,\n",
    " num_epochs=num_epochs, eval_freq=5, eval_iter=5,\n",
    " start_context=\"I love you \", tokenizer=tokenizer\n",
    ")"
   ]
  },
  {
   "cell_type": "markdown",
   "id": "aad417a4",
   "metadata": {},
   "source": []
  },
  {
   "cell_type": "code",
   "execution_count": 47,
   "id": "d54de49b",
   "metadata": {},
   "outputs": [
    {
     "data": {
      "image/png": "[encoded data removed]",
      "text/plain": [
       "<Figure size 500x300 with 2 Axes>"
      ]
     },
     "metadata": {},
     "output_type": "display_data"
    }
   ],
   "source": [
    "import matplotlib.pyplot as plt\n",
    "from matplotlib.ticker import MaxNLocator\n",
    "\n",
    "def plot_losses(epochs_seen, tokens_seen, train_losses, val_losses):\n",
    "    fig, ax1 = plt.subplots(figsize=(5, 3))\n",
    "    ax1.plot(epochs_seen, train_losses, label=\"Training loss\")\n",
    "    ax1.plot(\n",
    "    epochs_seen, val_losses, linestyle=\"-.\", label=\"Validation loss\"\n",
    "    )\n",
    "    ax1.set_xlabel(\"Epochs\")\n",
    "    ax1.set_ylabel(\"Loss\")\n",
    "    ax1.legend(loc=\"upper right\")\n",
    "    ax1.xaxis.set_major_locator(MaxNLocator(integer=True))\n",
    "    ax2 = ax1.twiny() #1\n",
    "    ax2.plot(tokens_seen, train_losses, alpha=0)\n",
    "    ax2.set_xlabel(\"Tokens seen\")\n",
    "    fig.tight_layout()\n",
    "    plt.show()\n",
    "\n",
    "epochs_tensor = torch.linspace(0, num_epochs, len(train_losses))\n",
    "plot_losses(epochs_tensor, tokens_seen, train_losses, val_losses)"
   ]
  },
  {
   "cell_type": "markdown",
   "id": "aecc8e90",
   "metadata": {},
   "source": [
    "### Temperature scaling\n"
   ]
  },
  {
   "cell_type": "code",
   "execution_count": 48,
   "id": "8dc6207a",
   "metadata": {},
   "outputs": [
    {
     "name": "stdout",
     "output_type": "stream",
     "text": [
      "{0: 'closer', 1: 'every', 2: 'effort', 3: 'forward', 4: 'inches', 5: 'moves', 6: 'pizza', 7: 'toward', 8: 'you'}\n"
     ]
    }
   ],
   "source": [
    "vocab = {\n",
    "    \"closer\": 0,\n",
    "    \"every\": 1,\n",
    "    \"effort\": 2,\n",
    "    \"forward\": 3,\n",
    "    \"inches\": 4,\n",
    "    \"moves\": 5,\n",
    "    \"pizza\": 6,\n",
    "    \"toward\": 7,\n",
    "    \"you\": 8,\n",
    "}\n",
    "\n",
    "inverse_vocab = {v: k for k, v in vocab.items()}\n",
    "print(inverse_vocab)"
   ]
  },
  {
   "cell_type": "code",
   "execution_count": 49,
   "id": "b50d7803",
   "metadata": {},
   "outputs": [],
   "source": [
    "next_token_logits = torch.tensor(\n",
    " [4.51, 0.89, -1.90, 6.75, 1.63, -1.62, -1.89, 6.28, 1.79]\n",
    ")"
   ]
  },
  {
   "cell_type": "code",
   "execution_count": 50,
   "id": "e636b8ef",
   "metadata": {},
   "outputs": [
    {
     "name": "stdout",
     "output_type": "stream",
     "text": [
      "tensor([6.0907e-02, 1.6313e-03, 1.0019e-04, 5.7212e-01, 3.4190e-03, 1.3257e-04,\n",
      "        1.0120e-04, 3.5758e-01, 4.0122e-03])\n",
      "3\n",
      "forward\n"
     ]
    }
   ],
   "source": [
    "probas = torch.softmax(next_token_logits, dim=0)\n",
    "print(probas)\n",
    "next_token_id = torch.argmax(probas).item()\n",
    "print(next_token_id)\n",
    "print(inverse_vocab[next_token_id])\n"
   ]
  },
  {
   "cell_type": "code",
   "execution_count": 51,
   "id": "a2c52050",
   "metadata": {},
   "outputs": [
    {
     "name": "stdout",
     "output_type": "stream",
     "text": [
      "3\n"
     ]
    }
   ],
   "source": [
    "torch.manual_seed(123)\n",
    "next_token_id = torch.multinomial(probas, num_samples=1).item()\n",
    "print(next_token_id)"
   ]
  },
  {
   "cell_type": "code",
   "execution_count": 52,
   "id": "a7f18241",
   "metadata": {},
   "outputs": [
    {
     "name": "stdout",
     "output_type": "stream",
     "text": [
      "664 x closer\n",
      "11 x every\n",
      "0 x effort\n",
      "5718 x forward\n",
      "32 x inches\n",
      "0 x moves\n",
      "1 x pizza\n",
      "3536 x toward\n",
      "38 x you\n"
     ]
    }
   ],
   "source": [
    "def print_sampled_tokens(probas):\n",
    "    torch.manual_seed(123)    \n",
    "    sample = []\n",
    "    for i in range(10000):\n",
    "        sample.append(torch.multinomial(probas, num_samples=1).item())\n",
    "\n",
    "    # .bincount means counting the occurrences of each token ID in the sample\n",
    "    sample_ids = torch.bincount(torch.tensor(sample))\n",
    "    for i, freq in enumerate(sample_ids):\n",
    "        print(f\"{freq} x {inverse_vocab[i]}\")\n",
    "\n",
    "\n",
    "print_sampled_tokens(probas)"
   ]
  },
  {
   "cell_type": "code",
   "execution_count": 53,
   "id": "e36cc590",
   "metadata": {},
   "outputs": [],
   "source": [
    "def softmax_with_temperature(logits, temperature):\n",
    "    scale_logits = logits / temperature\n",
    "    print(scale_logits)\n",
    "    return torch.softmax(scale_logits, dim=0)"
   ]
  },
  {
   "cell_type": "code",
   "execution_count": 54,
   "id": "5d00e760",
   "metadata": {},
   "outputs": [
    {
     "name": "stdout",
     "output_type": "stream",
     "text": [
      "tensor([ 4.5100,  0.8900, -1.9000,  6.7500,  1.6300, -1.6200, -1.8900,  6.2800,\n",
      "         1.7900])\n",
      "tensor([ 45.1000,   8.9000, -19.0000,  67.5000,  16.3000, -16.2000, -18.9000,\n",
      "         62.8000,  17.9000])\n",
      "tensor([ 0.9020,  0.1780, -0.3800,  1.3500,  0.3260, -0.3240, -0.3780,  1.2560,\n",
      "         0.3580])\n"
     ]
    },
    {
     "data": {
      "image/png": "[encoded data removed]",
      "text/plain": [
       "<Figure size 800x500 with 1 Axes>"
      ]
     },
     "metadata": {},
     "output_type": "display_data"
    }
   ],
   "source": [
    "temperature = [1, 0.1, 5]\n",
    "scaled_probas = [\n",
    "    softmax_with_temperature(next_token_logits, T ) for T in temperature\n",
    "]\n",
    "x = torch.arange(len(vocab))\n",
    "\n",
    "bar_width = 0.1\n",
    "fig, ax = plt.subplots(figsize=(8, 5))\n",
    "for i, T in enumerate(temperature):\n",
    " rects = ax.bar(x + i * bar_width, scaled_probas[i],\n",
    " bar_width, label=f'Temperature = {T}')\n",
    "\n",
    "ax.set_ylabel('Probability')\n",
    "ax.set_xticks(x)\n",
    "ax.set_xticklabels(vocab.keys(), rotation=90)\n",
    "ax.legend()\n",
    "plt.tight_layout()\n",
    "plt.show()"
   ]
  },
  {
   "cell_type": "code",
   "execution_count": 55,
   "id": "a3187391",
   "metadata": {},
   "outputs": [
    {
     "name": "stdout",
     "output_type": "stream",
     "text": [
      "Top Logits : tensor([6.7500, 6.2800, 4.5100])\n",
      "Top positions : tensor([3, 7, 0])\n"
     ]
    }
   ],
   "source": [
    "top_k = 3\n",
    "top_logits, top_pos = torch.topk(next_token_logits, top_k)\n",
    "print(\"Top Logits :\", top_logits)\n",
    "print(\"Top positions :\", top_pos)"
   ]
  },
  {
   "cell_type": "code",
   "execution_count": 56,
   "id": "487b6138",
   "metadata": {},
   "outputs": [
    {
     "name": "stdout",
     "output_type": "stream",
     "text": [
      "tensor([4.5100,   -inf,   -inf, 6.7500,   -inf,   -inf,   -inf, 6.2800,   -inf])\n"
     ]
    }
   ],
   "source": [
    "new_logits = torch.where(\n",
    "    # top_logits[-1] is the smallest of the top k logits and means that *|>\n",
    "    # *|> we only keep the logits that are greater than or equal to the smallest of the top k logits\n",
    "    condition = next_token_logits < top_logits[-1],\n",
    "    input=torch.tensor(float('-inf')),\n",
    "    other = next_token_logits\n",
    ")\n",
    "\n",
    "print(new_logits)"
   ]
  },
  {
   "cell_type": "code",
   "execution_count": 57,
   "id": "a3dbca63",
   "metadata": {},
   "outputs": [
    {
     "name": "stdout",
     "output_type": "stream",
     "text": [
      "tensor([0.0615, 0.0000, 0.0000, 0.5775, 0.0000, 0.0000, 0.0000, 0.3610, 0.0000])\n"
     ]
    }
   ],
   "source": [
    "topk_probas = torch.softmax(new_logits, dim=0)\n",
    "print(topk_probas)"
   ]
  },
  {
   "cell_type": "code",
   "execution_count": 58,
   "id": "89998128",
   "metadata": {},
   "outputs": [],
   "source": [
    "def generate(model, idx, max_new_tokens, context_size,\n",
    "             temperature=0.0, top_k=None, eos_id=None):\n",
    "    for _ in range(max_new_tokens):\n",
    "        idx_cond = idx[:, -context_size:]\n",
    "        with torch.no_grad():\n",
    "            logits = model(idx_cond)\n",
    "        logits = logits[:, -1]\n",
    "        if top_k is not None:\n",
    "            top_logits, _ = torch.topk(logits, top_k)\n",
    "            min_val = top_logits[:, -1]\n",
    "            logits = torch.where(\n",
    "                logits < min_val,\n",
    "                torch.tensor(float(\"-inf\")).to(logits.device),\n",
    "                logits\n",
    "            )\n",
    "\n",
    "            if temperature >0.0:\n",
    "                logits = logits / temperature\n",
    "                probs = torch.softmax(logits, dim=-1)\n",
    "                idx_next = torch.multinomial(probs, num_samples=1)\n",
    "            else:\n",
    "                idx_next = torch.softmax(\n",
    "                    logits, dim=-1, keepdim=True\n",
    "                )\n",
    "            if idx_next == eos_id:\n",
    "                break\n",
    "            idx = torch.cat((idx, idx_next), dim=-1)\n",
    "\n",
    "    return idx"
   ]
  },
  {
   "cell_type": "code",
   "execution_count": 59,
   "id": "ed4c6c54",
   "metadata": {},
   "outputs": [
    {
     "name": "stdout",
     "output_type": "stream",
     "text": [
      "Output text:\n",
      " Every effort moves you?\"\n",
      "\"Oh a little too? I--I told me.\n",
      "\n"
     ]
    }
   ],
   "source": [
    "torch.manual_seed(123)\n",
    "tokenizer = tiktoken.get_encoding(\"gpt2\")\n",
    "token_ids = generate(\n",
    " model=model,\n",
    " idx=text_to_token_ids(\"Every effort moves you\", tokenizer).to(device),\n",
    " max_new_tokens=15,\n",
    " context_size = cfg.context_length,\n",
    " top_k=20,\n",
    " temperature=0.1\n",
    ")\n",
    "\n",
    "print(\"Output text:\\n\", token_ids_to_text(token_ids, tokenizer))"
   ]
  },
  {
   "cell_type": "markdown",
   "id": "294a432d",
   "metadata": {},
   "source": [
    "### Loading and saving model weights in PyTorch\n"
   ]
  },
  {
   "cell_type": "code",
   "execution_count": 60,
   "id": "199a4ac6",
   "metadata": {},
   "outputs": [],
   "source": [
    "# torch.save(model.state_dict(), \"model.path\")"
   ]
  },
  {
   "cell_type": "code",
   "execution_count": 61,
   "id": "6fed20d1",
   "metadata": {},
   "outputs": [],
   "source": [
    "# model = GPTModel(cfg)\n",
    "# model.load_state_dict(torch.load(\"model.path\", map_location=device))\n",
    "# model.eval()"
   ]
  },
  {
   "cell_type": "code",
   "execution_count": 62,
   "id": "80d5929a",
   "metadata": {},
   "outputs": [],
   "source": [
    "torch.save({\n",
    " \"model_state_dict\": model.state_dict(),\n",
    " \"optimizer_state_dict\": optimizer.state_dict(),\n",
    " },\n",
    " \"model_and_optimizer.pth\"\n",
    ")"
   ]
  },
  {
   "cell_type": "code",
   "execution_count": 63,
   "id": "8793e220",
   "metadata": {},
   "outputs": [],
   "source": [
    "# Load the model and optimizer state dictionaries\n",
    "# This code loads the model and optimizer state dictionaries from a file named \"model_and_optimizer.pth\".\n",
    "# It uses torch.load to load the checkpoint and map the tensors to the appropriate device.\n",
    "checkpoint = torch.load(\"model_and_optimizer.pth\", map_location=device)\n",
    "model = GPTModel(cfg)\n",
    "model.to(device)\n",
    "model.load_state_dict(checkpoint[\"model_state_dict\"])\n",
    "optimizer = torch.optim.AdamW(model.parameters(), lr=5e-4, weight_decay=0.1)\n",
    "optimizer.load_state_dict(checkpoint[\"optimizer_state_dict\"])\n",
    "model.train();"
   ]
  },
  {
   "cell_type": "code",
   "execution_count": 64,
   "id": "8409f7ee",
   "metadata": {},
   "outputs": [
    {
     "name": "stdout",
     "output_type": "stream",
     "text": [
      "Ep 1 (Step 000000): Train loss 0.626, Val loss 6.396\n",
      "Ep 1 (Step 000005): Train loss 0.502, Val loss 6.460\n",
      "I love you  thought Jack Gisburn rather a cheap genius--\n",
      "Ep 2 (Step 000010): Train loss 0.380, Val loss 6.557\n",
      "Ep 2 (Step 000015): Train loss 0.301, Val loss 6.617\n",
      "I love you  thought Jack Gisburn rather a cheap genius--\n",
      "Ep 3 (Step 000020): Train loss 0.231, Val loss 6.615\n",
      "Ep 3 (Step 000025): Train loss 0.198, Val loss 6.720\n",
      "I love you  thought Jack Gisburn rather a cheap genius--\n",
      "Ep 4 (Step 000030): Train loss 0.190, Val loss 6.858\n",
      "Ep 4 (Step 000035): Train loss 0.189, Val loss 6.824\n",
      "I love you  thought Jack Gisburn rather a cheap genius--\n",
      "Ep 5 (Step 000040): Train loss 0.153, Val loss 6.904\n",
      "I love you  thought Jack Gisburn rather a cheap genius--\n",
      "Ep 6 (Step 000045): Train loss 0.119, Val loss 6.909\n",
      "Ep 6 (Step 000050): Train loss 0.115, Val loss 6.936\n",
      "I love you  thought Jack Gisburn rather a cheap genius--\n",
      "Ep 7 (Step 000055): Train loss 0.100, Val loss 6.956\n",
      "Ep 7 (Step 000060): Train loss 0.089, Val loss 7.004\n",
      "I love you  thought Jack Gisburn rather a cheap genius--\n",
      "Ep 8 (Step 000065): Train loss 0.085, Val loss 6.985\n",
      "Ep 8 (Step 000070): Train loss 0.085, Val loss 7.111\n",
      "I love you  thought Jack Gisburn rather a cheap genius--\n",
      "Ep 9 (Step 000075): Train loss 0.079, Val loss 7.030\n",
      "Ep 9 (Step 000080): Train loss 0.075, Val loss 7.113\n",
      "I love you  thought Jack Gisburn rather a cheap genius--\n",
      "Ep 10 (Step 000085): Train loss 0.064, Val loss 7.122\n",
      "I love you  thought Jack Gisburn rather a cheap genius--\n"
     ]
    }
   ],
   "source": [
    "train_losses, val_losses, tokens_seen = train_model_simple(\n",
    " model, train_loader, val_loader, optimizer, device,\n",
    " num_epochs=num_epochs, eval_freq=5, eval_iter=5,\n",
    " start_context=\"I love you \", tokenizer=tokenizer\n",
    ")"
   ]
  },
  {
   "cell_type": "code",
   "execution_count": 65,
   "id": "1175ed3e",
   "metadata": {},
   "outputs": [
    {
     "name": "stdout",
     "output_type": "stream",
     "text": [
      "Output text:\n",
      " Every effort moves you?\"\n",
      "\n",
      "\"Yes--quite insensible to the irony. She wanted\n"
     ]
    }
   ],
   "source": [
    "torch.manual_seed(123)\n",
    "tokenizer = tiktoken.get_encoding(\"gpt2\")\n",
    "token_ids = generate(\n",
    " model=model,\n",
    " idx=text_to_token_ids(\"Every effort moves you\", tokenizer).to(device),\n",
    " max_new_tokens=15,\n",
    " context_size = cfg.context_length,\n",
    " top_k=20,\n",
    " temperature=0.1\n",
    ")\n",
    "\n",
    "print(\"Output text:\\n\", token_ids_to_text(token_ids, tokenizer))"
   ]
  },
  {
   "cell_type": "markdown",
   "id": "05058ee2",
   "metadata": {},
   "source": [
    "### Loading pretrained weights from OpenAI\n"
   ]
  },
  {
   "cell_type": "code",
   "execution_count": 67,
   "id": "d6d3108b",
   "metadata": {},
   "outputs": [
    {
     "data": {
      "text/plain": [
       "('gpt_download.py', <http.client.HTTPMessage at 0x22acb84aa20>)"
      ]
     },
     "execution_count": 67,
     "metadata": {},
     "output_type": "execute_result"
    }
   ],
   "source": [
    "import urllib.request\n",
    "url = (\n",
    " \"https://raw.githubusercontent.com/rasbt/\"\n",
    " \"LLMs-from-scratch/main/ch05/\"\n",
    " \"01_main-chapter-code/gpt_download.py\"\n",
    ")\n",
    "filename = url.split('/')[-1]\n",
    "urllib.request.urlretrieve(url, filename)\n"
   ]
  },
  {
   "cell_type": "code",
   "execution_count": 68,
   "id": "81a85904",
   "metadata": {},
   "outputs": [
    {
     "name": "stderr",
     "output_type": "stream",
     "text": [
      "checkpoint: 100%|██████████| 77.0/77.0 [00:00<00:00, 76.9kiB/s]\n",
      "encoder.json: 100%|██████████| 1.04M/1.04M [00:01<00:00, 877kiB/s]\n",
      "hparams.json: 100%|██████████| 90.0/90.0 [00:00<00:00, 90.1kiB/s]\n",
      "model.ckpt.data-00000-of-00001: 100%|██████████| 498M/498M [02:34<00:00, 3.22MiB/s]   \n",
      "model.ckpt.index: 100%|██████████| 5.21k/5.21k [00:00<00:00, 5.21MiB/s]\n",
      "model.ckpt.meta: 100%|██████████| 471k/471k [00:01<00:00, 448kiB/s]  \n",
      "vocab.bpe: 100%|██████████| 456k/456k [00:01<00:00, 424kiB/s] \n"
     ]
    }
   ],
   "source": [
    "from gpt_download import download_and_load_gpt2\n",
    "\n",
    "settings, params = download_and_load_gpt2(\n",
    " model_size=\"124M\", models_dir=\"gpt2\"\n",
    ")"
   ]
  },
  {
   "cell_type": "code",
   "execution_count": 69,
   "id": "9e594245",
   "metadata": {},
   "outputs": [
    {
     "name": "stdout",
     "output_type": "stream",
     "text": [
      "Settings: {'n_vocab': 50257, 'n_ctx': 1024, 'n_embd': 768, 'n_head': 12, 'n_layer': 12}\n",
      "Parameter dictionary keys: dict_keys(['blocks', 'b', 'g', 'wpe', 'wte'])\n"
     ]
    }
   ],
   "source": [
    "print(\"Settings:\", settings)\n",
    "print(\"Parameter dictionary keys:\", params.keys())"
   ]
  },
  {
   "cell_type": "code",
   "execution_count": 71,
   "id": "0e9afbf2",
   "metadata": {},
   "outputs": [
    {
     "name": "stdout",
     "output_type": "stream",
     "text": [
      "[[-0.11010301 -0.03926672  0.03310751 ... -0.1363697   0.01506208\n",
      "   0.04531523]\n",
      " [ 0.04034033 -0.04861503  0.04624869 ...  0.08605453  0.00253983\n",
      "   0.04318958]\n",
      " [-0.12746179  0.04793796  0.18410145 ...  0.08991534 -0.12972379\n",
      "  -0.08785918]\n",
      " ...\n",
      " [-0.04453601 -0.05483596  0.01225674 ...  0.10435229  0.09783269\n",
      "  -0.06952604]\n",
      " [ 0.1860082   0.01665728  0.04611587 ... -0.09625227  0.07847701\n",
      "  -0.02245961]\n",
      " [ 0.05135201 -0.02768905  0.0499369  ...  0.00704835  0.15519823\n",
      "   0.12067825]]\n",
      "Token embedding weight tensor dimensions: (50257, 768)\n"
     ]
    }
   ],
   "source": [
    "print(params['wte'])\n",
    "print(\"Token embedding weight tensor dimensions:\", params[\"wte\"].shape)"
   ]
  },
  {
   "cell_type": "code",
   "execution_count": 72,
   "id": "fe8d3088",
   "metadata": {},
   "outputs": [],
   "source": [
    "model_configs = {\n",
    " \"gpt2-small (124M)\": {\"emb_dim\": 768, \"n_layers\": 12, \"n_heads\": 12},\n",
    " \"gpt2-medium (355M)\": {\"emb_dim\": 1024, \"n_layers\": 24, \"n_heads\": 16},\n",
    " \"gpt2-large (774M)\": {\"emb_dim\": 1280, \"n_layers\": 36, \"n_heads\": 20},\n",
    " \"gpt2-xl (1558M)\": {\"emb_dim\": 1600, \"n_layers\": 48, \"n_heads\": 25},\n",
    "}\n"
   ]
  },
  {
   "cell_type": "code",
   "execution_count": 76,
   "id": "91b697d7",
   "metadata": {},
   "outputs": [],
   "source": [
    "model_name = \"gpt2-small (124M)\"\n",
    "NEW_CONFIG = GPT_CONFIG_124M.copy()\n",
    "NEW_CONFIG.update(model_configs[model_name])"
   ]
  },
  {
   "cell_type": "code",
   "execution_count": 77,
   "id": "3f17222c",
   "metadata": {},
   "outputs": [],
   "source": [
    "NEW_CONFIG.update({\"context_length\": 1024})"
   ]
  },
  {
   "cell_type": "code",
   "execution_count": 78,
   "id": "87aaf70d",
   "metadata": {},
   "outputs": [],
   "source": [
    "NEW_CONFIG.update({\"qkv_bias\": True})"
   ]
  },
  {
   "cell_type": "code",
   "execution_count": 80,
   "id": "6f3c2ee3",
   "metadata": {},
   "outputs": [],
   "source": [
    "cfg = SimpleNamespace(**NEW_CONFIG)"
   ]
  },
  {
   "cell_type": "code",
   "execution_count": 82,
   "id": "ede4565f",
   "metadata": {},
   "outputs": [
    {
     "data": {
      "text/plain": [
       "GPTModel(\n",
       "  (tok_emb): Embedding(50257, 768, padding_idx=0)\n",
       "  (pos_emb): Embedding(1024, 768, padding_idx=0)\n",
       "  (drop_emb): Dropout(p=0.1, inplace=False)\n",
       "  (trf_block): Sequential(\n",
       "    (0): TransformerBlock(\n",
       "      (norm1): LayerNorm()\n",
       "      (att): MultiHeadAttention(\n",
       "        (W_query): Linear(in_features=768, out_features=768, bias=True)\n",
       "        (W_key): Linear(in_features=768, out_features=768, bias=True)\n",
       "        (W_value): Linear(in_features=768, out_features=768, bias=True)\n",
       "        (proj_out): Linear(in_features=768, out_features=768, bias=True)\n",
       "        (drop): Dropout(p=0.1, inplace=False)\n",
       "      )\n",
       "      (drop_shortcut): Dropout(p=0.1, inplace=False)\n",
       "      (norm2): LayerNorm()\n",
       "      (ff): FeedForward(\n",
       "        (layer): Sequential(\n",
       "          (0): Linear(in_features=768, out_features=3072, bias=True)\n",
       "          (1): GELU(approximate='none')\n",
       "          (2): Linear(in_features=3072, out_features=768, bias=True)\n",
       "        )\n",
       "      )\n",
       "    )\n",
       "    (1): TransformerBlock(\n",
       "      (norm1): LayerNorm()\n",
       "      (att): MultiHeadAttention(\n",
       "        (W_query): Linear(in_features=768, out_features=768, bias=True)\n",
       "        (W_key): Linear(in_features=768, out_features=768, bias=True)\n",
       "        (W_value): Linear(in_features=768, out_features=768, bias=True)\n",
       "        (proj_out): Linear(in_features=768, out_features=768, bias=True)\n",
       "        (drop): Dropout(p=0.1, inplace=False)\n",
       "      )\n",
       "      (drop_shortcut): Dropout(p=0.1, inplace=False)\n",
       "      (norm2): LayerNorm()\n",
       "      (ff): FeedForward(\n",
       "        (layer): Sequential(\n",
       "          (0): Linear(in_features=768, out_features=3072, bias=True)\n",
       "          (1): GELU(approximate='none')\n",
       "          (2): Linear(in_features=3072, out_features=768, bias=True)\n",
       "        )\n",
       "      )\n",
       "    )\n",
       "    (2): TransformerBlock(\n",
       "      (norm1): LayerNorm()\n",
       "      (att): MultiHeadAttention(\n",
       "        (W_query): Linear(in_features=768, out_features=768, bias=True)\n",
       "        (W_key): Linear(in_features=768, out_features=768, bias=True)\n",
       "        (W_value): Linear(in_features=768, out_features=768, bias=True)\n",
       "        (proj_out): Linear(in_features=768, out_features=768, bias=True)\n",
       "        (drop): Dropout(p=0.1, inplace=False)\n",
       "      )\n",
       "      (drop_shortcut): Dropout(p=0.1, inplace=False)\n",
       "      (norm2): LayerNorm()\n",
       "      (ff): FeedForward(\n",
       "        (layer): Sequential(\n",
       "          (0): Linear(in_features=768, out_features=3072, bias=True)\n",
       "          (1): GELU(approximate='none')\n",
       "          (2): Linear(in_features=3072, out_features=768, bias=True)\n",
       "        )\n",
       "      )\n",
       "    )\n",
       "    (3): TransformerBlock(\n",
       "      (norm1): LayerNorm()\n",
       "      (att): MultiHeadAttention(\n",
       "        (W_query): Linear(in_features=768, out_features=768, bias=True)\n",
       "        (W_key): Linear(in_features=768, out_features=768, bias=True)\n",
       "        (W_value): Linear(in_features=768, out_features=768, bias=True)\n",
       "        (proj_out): Linear(in_features=768, out_features=768, bias=True)\n",
       "        (drop): Dropout(p=0.1, inplace=False)\n",
       "      )\n",
       "      (drop_shortcut): Dropout(p=0.1, inplace=False)\n",
       "      (norm2): LayerNorm()\n",
       "      (ff): FeedForward(\n",
       "        (layer): Sequential(\n",
       "          (0): Linear(in_features=768, out_features=3072, bias=True)\n",
       "          (1): GELU(approximate='none')\n",
       "          (2): Linear(in_features=3072, out_features=768, bias=True)\n",
       "        )\n",
       "      )\n",
       "    )\n",
       "    (4): TransformerBlock(\n",
       "      (norm1): LayerNorm()\n",
       "      (att): MultiHeadAttention(\n",
       "        (W_query): Linear(in_features=768, out_features=768, bias=True)\n",
       "        (W_key): Linear(in_features=768, out_features=768, bias=True)\n",
       "        (W_value): Linear(in_features=768, out_features=768, bias=True)\n",
       "        (proj_out): Linear(in_features=768, out_features=768, bias=True)\n",
       "        (drop): Dropout(p=0.1, inplace=False)\n",
       "      )\n",
       "      (drop_shortcut): Dropout(p=0.1, inplace=False)\n",
       "      (norm2): LayerNorm()\n",
       "      (ff): FeedForward(\n",
       "        (layer): Sequential(\n",
       "          (0): Linear(in_features=768, out_features=3072, bias=True)\n",
       "          (1): GELU(approximate='none')\n",
       "          (2): Linear(in_features=3072, out_features=768, bias=True)\n",
       "        )\n",
       "      )\n",
       "    )\n",
       "    (5): TransformerBlock(\n",
       "      (norm1): LayerNorm()\n",
       "      (att): MultiHeadAttention(\n",
       "        (W_query): Linear(in_features=768, out_features=768, bias=True)\n",
       "        (W_key): Linear(in_features=768, out_features=768, bias=True)\n",
       "        (W_value): Linear(in_features=768, out_features=768, bias=True)\n",
       "        (proj_out): Linear(in_features=768, out_features=768, bias=True)\n",
       "        (drop): Dropout(p=0.1, inplace=False)\n",
       "      )\n",
       "      (drop_shortcut): Dropout(p=0.1, inplace=False)\n",
       "      (norm2): LayerNorm()\n",
       "      (ff): FeedForward(\n",
       "        (layer): Sequential(\n",
       "          (0): Linear(in_features=768, out_features=3072, bias=True)\n",
       "          (1): GELU(approximate='none')\n",
       "          (2): Linear(in_features=3072, out_features=768, bias=True)\n",
       "        )\n",
       "      )\n",
       "    )\n",
       "    (6): TransformerBlock(\n",
       "      (norm1): LayerNorm()\n",
       "      (att): MultiHeadAttention(\n",
       "        (W_query): Linear(in_features=768, out_features=768, bias=True)\n",
       "        (W_key): Linear(in_features=768, out_features=768, bias=True)\n",
       "        (W_value): Linear(in_features=768, out_features=768, bias=True)\n",
       "        (proj_out): Linear(in_features=768, out_features=768, bias=True)\n",
       "        (drop): Dropout(p=0.1, inplace=False)\n",
       "      )\n",
       "      (drop_shortcut): Dropout(p=0.1, inplace=False)\n",
       "      (norm2): LayerNorm()\n",
       "      (ff): FeedForward(\n",
       "        (layer): Sequential(\n",
       "          (0): Linear(in_features=768, out_features=3072, bias=True)\n",
       "          (1): GELU(approximate='none')\n",
       "          (2): Linear(in_features=3072, out_features=768, bias=True)\n",
       "        )\n",
       "      )\n",
       "    )\n",
       "    (7): TransformerBlock(\n",
       "      (norm1): LayerNorm()\n",
       "      (att): MultiHeadAttention(\n",
       "        (W_query): Linear(in_features=768, out_features=768, bias=True)\n",
       "        (W_key): Linear(in_features=768, out_features=768, bias=True)\n",
       "        (W_value): Linear(in_features=768, out_features=768, bias=True)\n",
       "        (proj_out): Linear(in_features=768, out_features=768, bias=True)\n",
       "        (drop): Dropout(p=0.1, inplace=False)\n",
       "      )\n",
       "      (drop_shortcut): Dropout(p=0.1, inplace=False)\n",
       "      (norm2): LayerNorm()\n",
       "      (ff): FeedForward(\n",
       "        (layer): Sequential(\n",
       "          (0): Linear(in_features=768, out_features=3072, bias=True)\n",
       "          (1): GELU(approximate='none')\n",
       "          (2): Linear(in_features=3072, out_features=768, bias=True)\n",
       "        )\n",
       "      )\n",
       "    )\n",
       "    (8): TransformerBlock(\n",
       "      (norm1): LayerNorm()\n",
       "      (att): MultiHeadAttention(\n",
       "        (W_query): Linear(in_features=768, out_features=768, bias=True)\n",
       "        (W_key): Linear(in_features=768, out_features=768, bias=True)\n",
       "        (W_value): Linear(in_features=768, out_features=768, bias=True)\n",
       "        (proj_out): Linear(in_features=768, out_features=768, bias=True)\n",
       "        (drop): Dropout(p=0.1, inplace=False)\n",
       "      )\n",
       "      (drop_shortcut): Dropout(p=0.1, inplace=False)\n",
       "      (norm2): LayerNorm()\n",
       "      (ff): FeedForward(\n",
       "        (layer): Sequential(\n",
       "          (0): Linear(in_features=768, out_features=3072, bias=True)\n",
       "          (1): GELU(approximate='none')\n",
       "          (2): Linear(in_features=3072, out_features=768, bias=True)\n",
       "        )\n",
       "      )\n",
       "    )\n",
       "    (9): TransformerBlock(\n",
       "      (norm1): LayerNorm()\n",
       "      (att): MultiHeadAttention(\n",
       "        (W_query): Linear(in_features=768, out_features=768, bias=True)\n",
       "        (W_key): Linear(in_features=768, out_features=768, bias=True)\n",
       "        (W_value): Linear(in_features=768, out_features=768, bias=True)\n",
       "        (proj_out): Linear(in_features=768, out_features=768, bias=True)\n",
       "        (drop): Dropout(p=0.1, inplace=False)\n",
       "      )\n",
       "      (drop_shortcut): Dropout(p=0.1, inplace=False)\n",
       "      (norm2): LayerNorm()\n",
       "      (ff): FeedForward(\n",
       "        (layer): Sequential(\n",
       "          (0): Linear(in_features=768, out_features=3072, bias=True)\n",
       "          (1): GELU(approximate='none')\n",
       "          (2): Linear(in_features=3072, out_features=768, bias=True)\n",
       "        )\n",
       "      )\n",
       "    )\n",
       "    (10): TransformerBlock(\n",
       "      (norm1): LayerNorm()\n",
       "      (att): MultiHeadAttention(\n",
       "        (W_query): Linear(in_features=768, out_features=768, bias=True)\n",
       "        (W_key): Linear(in_features=768, out_features=768, bias=True)\n",
       "        (W_value): Linear(in_features=768, out_features=768, bias=True)\n",
       "        (proj_out): Linear(in_features=768, out_features=768, bias=True)\n",
       "        (drop): Dropout(p=0.1, inplace=False)\n",
       "      )\n",
       "      (drop_shortcut): Dropout(p=0.1, inplace=False)\n",
       "      (norm2): LayerNorm()\n",
       "      (ff): FeedForward(\n",
       "        (layer): Sequential(\n",
       "          (0): Linear(in_features=768, out_features=3072, bias=True)\n",
       "          (1): GELU(approximate='none')\n",
       "          (2): Linear(in_features=3072, out_features=768, bias=True)\n",
       "        )\n",
       "      )\n",
       "    )\n",
       "    (11): TransformerBlock(\n",
       "      (norm1): LayerNorm()\n",
       "      (att): MultiHeadAttention(\n",
       "        (W_query): Linear(in_features=768, out_features=768, bias=True)\n",
       "        (W_key): Linear(in_features=768, out_features=768, bias=True)\n",
       "        (W_value): Linear(in_features=768, out_features=768, bias=True)\n",
       "        (proj_out): Linear(in_features=768, out_features=768, bias=True)\n",
       "        (drop): Dropout(p=0.1, inplace=False)\n",
       "      )\n",
       "      (drop_shortcut): Dropout(p=0.1, inplace=False)\n",
       "      (norm2): LayerNorm()\n",
       "      (ff): FeedForward(\n",
       "        (layer): Sequential(\n",
       "          (0): Linear(in_features=768, out_features=3072, bias=True)\n",
       "          (1): GELU(approximate='none')\n",
       "          (2): Linear(in_features=3072, out_features=768, bias=True)\n",
       "        )\n",
       "      )\n",
       "    )\n",
       "  )\n",
       "  (final_norm): LayerNorm()\n",
       "  (out_head): Linear(in_features=768, out_features=50257, bias=False)\n",
       ")"
      ]
     },
     "execution_count": 82,
     "metadata": {},
     "output_type": "execute_result"
    }
   ],
   "source": [
    "gpt = GPTModel(cfg)\n",
    "gpt.eval()"
   ]
  },
  {
   "cell_type": "code",
   "execution_count": 85,
   "id": "d0f7d139",
   "metadata": {},
   "outputs": [],
   "source": [
    "def assign(left, right):\n",
    "    if left.shape != right.shape:\n",
    "        raise ValueError(f\"Shape mismatch. Left: {left.shape}, \"\n",
    "                         \"Right: {right.shape}\"\n",
    "        )\n",
    "    \n",
    "    return torch.nn.Parameter(torch.tensor(right))"
   ]
  }
 ],
 "metadata": {
  "kernelspec": {
   "display_name": "Python 3",
   "language": "python",
   "name": "python3"
  },
  "language_info": {
   "codemirror_mode": {
    "name": "ipython",
    "version": 3
   },
   "file_extension": ".py",
   "mimetype": "text/x-python",
   "name": "python",
   "nbconvert_exporter": "python",
   "pygments_lexer": "ipython3",
   "version": "3.12.9"
  }
 },
 "nbformat": 4,
 "nbformat_minor": 5
}
